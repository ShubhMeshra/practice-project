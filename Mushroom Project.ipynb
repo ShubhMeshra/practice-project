{
 "cells": [
  {
   "cell_type": "code",
   "execution_count": 55,
   "id": "bb88b3b6",
   "metadata": {},
   "outputs": [],
   "source": [
    "import pandas as pd\n",
    "import numpy as np\n",
    "import matplotlib.pyplot as plt\n",
    "import seaborn as sns\n",
    "from sklearn.preprocessing import LabelEncoder\n",
    "from sklearn.model_selection import train_test_split,StratifiedKFold, GridSearchCV\n",
    "from sklearn.linear_model import LogisticRegression\n",
    "from sklearn.tree import DecisionTreeClassifier\n",
    "from sklearn.ensemble import RandomForestClassifier\n",
    "from sklearn.metrics import accuracy_score,confusion_matrix, classification_report\n",
    "import joblib\n",
    "import warnings\n",
    "warnings.filterwarnings('ignore')"
   ]
  },
  {
   "cell_type": "code",
   "execution_count": 53,
   "id": "30b4674e",
   "metadata": {},
   "outputs": [],
   "source": [
    "df = pd.read_csv(\"https://raw.githubusercontent.com/dsrscientist/dataset1/master/mushrooms.csv\")"
   ]
  },
  {
   "cell_type": "code",
   "execution_count": 54,
   "id": "52632e3f",
   "metadata": {},
   "outputs": [
    {
     "data": {
      "text/html": [
       "<div>\n",
       "<style scoped>\n",
       "    .dataframe tbody tr th:only-of-type {\n",
       "        vertical-align: middle;\n",
       "    }\n",
       "\n",
       "    .dataframe tbody tr th {\n",
       "        vertical-align: top;\n",
       "    }\n",
       "\n",
       "    .dataframe thead th {\n",
       "        text-align: right;\n",
       "    }\n",
       "</style>\n",
       "<table border=\"1\" class=\"dataframe\">\n",
       "  <thead>\n",
       "    <tr style=\"text-align: right;\">\n",
       "      <th></th>\n",
       "      <th>class</th>\n",
       "      <th>cap-shape</th>\n",
       "      <th>cap-surface</th>\n",
       "      <th>cap-color</th>\n",
       "      <th>bruises</th>\n",
       "      <th>odor</th>\n",
       "      <th>gill-attachment</th>\n",
       "      <th>gill-spacing</th>\n",
       "      <th>gill-size</th>\n",
       "      <th>gill-color</th>\n",
       "      <th>...</th>\n",
       "      <th>stalk-surface-below-ring</th>\n",
       "      <th>stalk-color-above-ring</th>\n",
       "      <th>stalk-color-below-ring</th>\n",
       "      <th>veil-type</th>\n",
       "      <th>veil-color</th>\n",
       "      <th>ring-number</th>\n",
       "      <th>ring-type</th>\n",
       "      <th>spore-print-color</th>\n",
       "      <th>population</th>\n",
       "      <th>habitat</th>\n",
       "    </tr>\n",
       "  </thead>\n",
       "  <tbody>\n",
       "    <tr>\n",
       "      <th>0</th>\n",
       "      <td>p</td>\n",
       "      <td>x</td>\n",
       "      <td>s</td>\n",
       "      <td>n</td>\n",
       "      <td>t</td>\n",
       "      <td>p</td>\n",
       "      <td>f</td>\n",
       "      <td>c</td>\n",
       "      <td>n</td>\n",
       "      <td>k</td>\n",
       "      <td>...</td>\n",
       "      <td>s</td>\n",
       "      <td>w</td>\n",
       "      <td>w</td>\n",
       "      <td>p</td>\n",
       "      <td>w</td>\n",
       "      <td>o</td>\n",
       "      <td>p</td>\n",
       "      <td>k</td>\n",
       "      <td>s</td>\n",
       "      <td>u</td>\n",
       "    </tr>\n",
       "    <tr>\n",
       "      <th>1</th>\n",
       "      <td>e</td>\n",
       "      <td>x</td>\n",
       "      <td>s</td>\n",
       "      <td>y</td>\n",
       "      <td>t</td>\n",
       "      <td>a</td>\n",
       "      <td>f</td>\n",
       "      <td>c</td>\n",
       "      <td>b</td>\n",
       "      <td>k</td>\n",
       "      <td>...</td>\n",
       "      <td>s</td>\n",
       "      <td>w</td>\n",
       "      <td>w</td>\n",
       "      <td>p</td>\n",
       "      <td>w</td>\n",
       "      <td>o</td>\n",
       "      <td>p</td>\n",
       "      <td>n</td>\n",
       "      <td>n</td>\n",
       "      <td>g</td>\n",
       "    </tr>\n",
       "    <tr>\n",
       "      <th>2</th>\n",
       "      <td>e</td>\n",
       "      <td>b</td>\n",
       "      <td>s</td>\n",
       "      <td>w</td>\n",
       "      <td>t</td>\n",
       "      <td>l</td>\n",
       "      <td>f</td>\n",
       "      <td>c</td>\n",
       "      <td>b</td>\n",
       "      <td>n</td>\n",
       "      <td>...</td>\n",
       "      <td>s</td>\n",
       "      <td>w</td>\n",
       "      <td>w</td>\n",
       "      <td>p</td>\n",
       "      <td>w</td>\n",
       "      <td>o</td>\n",
       "      <td>p</td>\n",
       "      <td>n</td>\n",
       "      <td>n</td>\n",
       "      <td>m</td>\n",
       "    </tr>\n",
       "    <tr>\n",
       "      <th>3</th>\n",
       "      <td>p</td>\n",
       "      <td>x</td>\n",
       "      <td>y</td>\n",
       "      <td>w</td>\n",
       "      <td>t</td>\n",
       "      <td>p</td>\n",
       "      <td>f</td>\n",
       "      <td>c</td>\n",
       "      <td>n</td>\n",
       "      <td>n</td>\n",
       "      <td>...</td>\n",
       "      <td>s</td>\n",
       "      <td>w</td>\n",
       "      <td>w</td>\n",
       "      <td>p</td>\n",
       "      <td>w</td>\n",
       "      <td>o</td>\n",
       "      <td>p</td>\n",
       "      <td>k</td>\n",
       "      <td>s</td>\n",
       "      <td>u</td>\n",
       "    </tr>\n",
       "    <tr>\n",
       "      <th>4</th>\n",
       "      <td>e</td>\n",
       "      <td>x</td>\n",
       "      <td>s</td>\n",
       "      <td>g</td>\n",
       "      <td>f</td>\n",
       "      <td>n</td>\n",
       "      <td>f</td>\n",
       "      <td>w</td>\n",
       "      <td>b</td>\n",
       "      <td>k</td>\n",
       "      <td>...</td>\n",
       "      <td>s</td>\n",
       "      <td>w</td>\n",
       "      <td>w</td>\n",
       "      <td>p</td>\n",
       "      <td>w</td>\n",
       "      <td>o</td>\n",
       "      <td>e</td>\n",
       "      <td>n</td>\n",
       "      <td>a</td>\n",
       "      <td>g</td>\n",
       "    </tr>\n",
       "  </tbody>\n",
       "</table>\n",
       "<p>5 rows × 23 columns</p>\n",
       "</div>"
      ],
      "text/plain": [
       "  class cap-shape cap-surface cap-color bruises odor gill-attachment  \\\n",
       "0     p         x           s         n       t    p               f   \n",
       "1     e         x           s         y       t    a               f   \n",
       "2     e         b           s         w       t    l               f   \n",
       "3     p         x           y         w       t    p               f   \n",
       "4     e         x           s         g       f    n               f   \n",
       "\n",
       "  gill-spacing gill-size gill-color  ... stalk-surface-below-ring  \\\n",
       "0            c         n          k  ...                        s   \n",
       "1            c         b          k  ...                        s   \n",
       "2            c         b          n  ...                        s   \n",
       "3            c         n          n  ...                        s   \n",
       "4            w         b          k  ...                        s   \n",
       "\n",
       "  stalk-color-above-ring stalk-color-below-ring veil-type veil-color  \\\n",
       "0                      w                      w         p          w   \n",
       "1                      w                      w         p          w   \n",
       "2                      w                      w         p          w   \n",
       "3                      w                      w         p          w   \n",
       "4                      w                      w         p          w   \n",
       "\n",
       "  ring-number ring-type spore-print-color population habitat  \n",
       "0           o         p                 k          s       u  \n",
       "1           o         p                 n          n       g  \n",
       "2           o         p                 n          n       m  \n",
       "3           o         p                 k          s       u  \n",
       "4           o         e                 n          a       g  \n",
       "\n",
       "[5 rows x 23 columns]"
      ]
     },
     "execution_count": 54,
     "metadata": {},
     "output_type": "execute_result"
    }
   ],
   "source": [
    "df.head()"
   ]
  },
  {
   "cell_type": "code",
   "execution_count": 6,
   "id": "acecbbb2",
   "metadata": {},
   "outputs": [
    {
     "name": "stdout",
     "output_type": "stream",
     "text": [
      "<class 'pandas.core.frame.DataFrame'>\n",
      "RangeIndex: 8124 entries, 0 to 8123\n",
      "Data columns (total 23 columns):\n",
      " #   Column                    Non-Null Count  Dtype \n",
      "---  ------                    --------------  ----- \n",
      " 0   class                     8124 non-null   object\n",
      " 1   cap-shape                 8124 non-null   object\n",
      " 2   cap-surface               8124 non-null   object\n",
      " 3   cap-color                 8124 non-null   object\n",
      " 4   bruises                   8124 non-null   object\n",
      " 5   odor                      8124 non-null   object\n",
      " 6   gill-attachment           8124 non-null   object\n",
      " 7   gill-spacing              8124 non-null   object\n",
      " 8   gill-size                 8124 non-null   object\n",
      " 9   gill-color                8124 non-null   object\n",
      " 10  stalk-shape               8124 non-null   object\n",
      " 11  stalk-root                8124 non-null   object\n",
      " 12  stalk-surface-above-ring  8124 non-null   object\n",
      " 13  stalk-surface-below-ring  8124 non-null   object\n",
      " 14  stalk-color-above-ring    8124 non-null   object\n",
      " 15  stalk-color-below-ring    8124 non-null   object\n",
      " 16  veil-type                 8124 non-null   object\n",
      " 17  veil-color                8124 non-null   object\n",
      " 18  ring-number               8124 non-null   object\n",
      " 19  ring-type                 8124 non-null   object\n",
      " 20  spore-print-color         8124 non-null   object\n",
      " 21  population                8124 non-null   object\n",
      " 22  habitat                   8124 non-null   object\n",
      "dtypes: object(23)\n",
      "memory usage: 1.4+ MB\n"
     ]
    }
   ],
   "source": [
    "df.info()"
   ]
  },
  {
   "cell_type": "code",
   "execution_count": 7,
   "id": "b3ba3363",
   "metadata": {},
   "outputs": [
    {
     "data": {
      "text/html": [
       "<div>\n",
       "<style scoped>\n",
       "    .dataframe tbody tr th:only-of-type {\n",
       "        vertical-align: middle;\n",
       "    }\n",
       "\n",
       "    .dataframe tbody tr th {\n",
       "        vertical-align: top;\n",
       "    }\n",
       "\n",
       "    .dataframe thead th {\n",
       "        text-align: right;\n",
       "    }\n",
       "</style>\n",
       "<table border=\"1\" class=\"dataframe\">\n",
       "  <thead>\n",
       "    <tr style=\"text-align: right;\">\n",
       "      <th></th>\n",
       "      <th>class</th>\n",
       "      <th>cap-shape</th>\n",
       "      <th>cap-surface</th>\n",
       "      <th>cap-color</th>\n",
       "      <th>bruises</th>\n",
       "      <th>odor</th>\n",
       "      <th>gill-attachment</th>\n",
       "      <th>gill-spacing</th>\n",
       "      <th>gill-size</th>\n",
       "      <th>gill-color</th>\n",
       "      <th>...</th>\n",
       "      <th>stalk-surface-below-ring</th>\n",
       "      <th>stalk-color-above-ring</th>\n",
       "      <th>stalk-color-below-ring</th>\n",
       "      <th>veil-type</th>\n",
       "      <th>veil-color</th>\n",
       "      <th>ring-number</th>\n",
       "      <th>ring-type</th>\n",
       "      <th>spore-print-color</th>\n",
       "      <th>population</th>\n",
       "      <th>habitat</th>\n",
       "    </tr>\n",
       "  </thead>\n",
       "  <tbody>\n",
       "    <tr>\n",
       "      <th>count</th>\n",
       "      <td>8124</td>\n",
       "      <td>8124</td>\n",
       "      <td>8124</td>\n",
       "      <td>8124</td>\n",
       "      <td>8124</td>\n",
       "      <td>8124</td>\n",
       "      <td>8124</td>\n",
       "      <td>8124</td>\n",
       "      <td>8124</td>\n",
       "      <td>8124</td>\n",
       "      <td>...</td>\n",
       "      <td>8124</td>\n",
       "      <td>8124</td>\n",
       "      <td>8124</td>\n",
       "      <td>8124</td>\n",
       "      <td>8124</td>\n",
       "      <td>8124</td>\n",
       "      <td>8124</td>\n",
       "      <td>8124</td>\n",
       "      <td>8124</td>\n",
       "      <td>8124</td>\n",
       "    </tr>\n",
       "    <tr>\n",
       "      <th>unique</th>\n",
       "      <td>2</td>\n",
       "      <td>6</td>\n",
       "      <td>4</td>\n",
       "      <td>10</td>\n",
       "      <td>2</td>\n",
       "      <td>9</td>\n",
       "      <td>2</td>\n",
       "      <td>2</td>\n",
       "      <td>2</td>\n",
       "      <td>12</td>\n",
       "      <td>...</td>\n",
       "      <td>4</td>\n",
       "      <td>9</td>\n",
       "      <td>9</td>\n",
       "      <td>1</td>\n",
       "      <td>4</td>\n",
       "      <td>3</td>\n",
       "      <td>5</td>\n",
       "      <td>9</td>\n",
       "      <td>6</td>\n",
       "      <td>7</td>\n",
       "    </tr>\n",
       "    <tr>\n",
       "      <th>top</th>\n",
       "      <td>e</td>\n",
       "      <td>x</td>\n",
       "      <td>y</td>\n",
       "      <td>n</td>\n",
       "      <td>f</td>\n",
       "      <td>n</td>\n",
       "      <td>f</td>\n",
       "      <td>c</td>\n",
       "      <td>b</td>\n",
       "      <td>b</td>\n",
       "      <td>...</td>\n",
       "      <td>s</td>\n",
       "      <td>w</td>\n",
       "      <td>w</td>\n",
       "      <td>p</td>\n",
       "      <td>w</td>\n",
       "      <td>o</td>\n",
       "      <td>p</td>\n",
       "      <td>w</td>\n",
       "      <td>v</td>\n",
       "      <td>d</td>\n",
       "    </tr>\n",
       "    <tr>\n",
       "      <th>freq</th>\n",
       "      <td>4208</td>\n",
       "      <td>3656</td>\n",
       "      <td>3244</td>\n",
       "      <td>2284</td>\n",
       "      <td>4748</td>\n",
       "      <td>3528</td>\n",
       "      <td>7914</td>\n",
       "      <td>6812</td>\n",
       "      <td>5612</td>\n",
       "      <td>1728</td>\n",
       "      <td>...</td>\n",
       "      <td>4936</td>\n",
       "      <td>4464</td>\n",
       "      <td>4384</td>\n",
       "      <td>8124</td>\n",
       "      <td>7924</td>\n",
       "      <td>7488</td>\n",
       "      <td>3968</td>\n",
       "      <td>2388</td>\n",
       "      <td>4040</td>\n",
       "      <td>3148</td>\n",
       "    </tr>\n",
       "  </tbody>\n",
       "</table>\n",
       "<p>4 rows × 23 columns</p>\n",
       "</div>"
      ],
      "text/plain": [
       "       class cap-shape cap-surface cap-color bruises  odor gill-attachment  \\\n",
       "count   8124      8124        8124      8124    8124  8124            8124   \n",
       "unique     2         6           4        10       2     9               2   \n",
       "top        e         x           y         n       f     n               f   \n",
       "freq    4208      3656        3244      2284    4748  3528            7914   \n",
       "\n",
       "       gill-spacing gill-size gill-color  ... stalk-surface-below-ring  \\\n",
       "count          8124      8124       8124  ...                     8124   \n",
       "unique            2         2         12  ...                        4   \n",
       "top               c         b          b  ...                        s   \n",
       "freq           6812      5612       1728  ...                     4936   \n",
       "\n",
       "       stalk-color-above-ring stalk-color-below-ring veil-type veil-color  \\\n",
       "count                    8124                   8124      8124       8124   \n",
       "unique                      9                      9         1          4   \n",
       "top                         w                      w         p          w   \n",
       "freq                     4464                   4384      8124       7924   \n",
       "\n",
       "       ring-number ring-type spore-print-color population habitat  \n",
       "count         8124      8124              8124       8124    8124  \n",
       "unique           3         5                 9          6       7  \n",
       "top              o         p                 w          v       d  \n",
       "freq          7488      3968              2388       4040    3148  \n",
       "\n",
       "[4 rows x 23 columns]"
      ]
     },
     "execution_count": 7,
     "metadata": {},
     "output_type": "execute_result"
    }
   ],
   "source": [
    "df.describe()"
   ]
  },
  {
   "cell_type": "markdown",
   "id": "41006ea6",
   "metadata": {},
   "source": [
    "# MUSHROOM CHECK BALANCE"
   ]
  },
  {
   "cell_type": "code",
   "execution_count": 8,
   "id": "249a9aef",
   "metadata": {},
   "outputs": [
    {
     "name": "stdout",
     "output_type": "stream",
     "text": [
      "\n",
      "' poisonous'_to_'edible' ratio: 0.93\\poisonous_cnt:3916, edible_cnt: 4208\n"
     ]
    },
    {
     "data": {
      "text/plain": [
       "<AxesSubplot:title={'center':'Balance checking for input class in mushroom Dataset'}, xlabel='class', ylabel='count'>"
      ]
     },
     "execution_count": 8,
     "metadata": {},
     "output_type": "execute_result"
    },
    {
     "data": {
      "image/png": "[encoded data removed]",
      "text/plain": [
       "<Figure size 432x288 with 1 Axes>"
      ]
     },
     "metadata": {},
     "output_type": "display_data"
    }
   ],
   "source": [
    "#check mushroom balance\n",
    "#poisnous to edible ratio\n",
    "edible_cnt=df[df [\"class\"] ==\"e\"][\"class\"].count()\n",
    "poisonous_cnt=df[df [\"class\"] ==\"p\"][\"class\"].count()\n",
    "p_e_ratio=poisonous_cnt/float(edible_cnt)\n",
    "print(\"\\n' poisonous'_to_'edible' ratio: {}\\poisonous_cnt:{}, edible_cnt: {}\"\n",
    "      .format(p_e_ratio.round(2),poisonous_cnt, edible_cnt))\n",
    "\n",
    "#Edible vs Poisonous Balance through visialization.\n",
    "sns.set(style=\"whitegrid\")\n",
    "plt.title(\"Balance checking for input class in mushroom Dataset\", fontsize=16)\n",
    "sns.countplot(x = df[\"class\"],data = df)\n"
   ]
  },
  {
   "cell_type": "markdown",
   "id": "a2a7b67f",
   "metadata": {},
   "source": [
    "# Univariate analysis"
   ]
  },
  {
   "cell_type": "code",
   "execution_count": 9,
   "id": "e806bb31",
   "metadata": {},
   "outputs": [
    {
     "data": {
      "text/plain": [
       "23"
      ]
     },
     "execution_count": 9,
     "metadata": {},
     "output_type": "execute_result"
    }
   ],
   "source": [
    "col=df.columns\n",
    "len(col)"
   ]
  },
  {
   "cell_type": "code",
   "execution_count": 10,
   "id": "bff8c55d",
   "metadata": {},
   "outputs": [
    {
     "data": {
      "image/png": "[encoded data removed]",
      "text/plain": [
       "<Figure size 864x864 with 23 Axes>"
      ]
     },
     "metadata": {},
     "output_type": "display_data"
    }
   ],
   "source": [
    "#plotting each feature and target\n",
    "plt.figure(figsize=(12,12))\n",
    "\n",
    "for i in range(len(col)):\n",
    "    plt.subplot(5,5,i+1)\n",
    "    sns.countplot(x=col[i],data=df)\n",
    "    plt.tight_layout()\n"
   ]
  },
  {
   "cell_type": "code",
   "execution_count": 11,
   "id": "e4a3e871",
   "metadata": {},
   "outputs": [
    {
     "data": {
      "image/png": "[encoded data removed]",
      "text/plain": [
       "<Figure size 1008x1008 with 23 Axes>"
      ]
     },
     "metadata": {},
     "output_type": "display_data"
    }
   ],
   "source": [
    "# checking each feature with the target variable\n",
    "df=df.astype('category')\n",
    "df.dtypes\n",
    "plt.figure(figsize=(14,14))\n",
    "for i in range(len(col)):\n",
    "    plt.subplot(5,5,i+1)\n",
    "    sns.countplot(x=col[i],hue='class',data=df)\n",
    "    plt.tight_layout()"
   ]
  },
  {
   "cell_type": "markdown",
   "id": "d28e182e",
   "metadata": {},
   "source": [
    "# DATA CLEANING"
   ]
  },
  {
   "cell_type": "code",
   "execution_count": 12,
   "id": "95ea5f31",
   "metadata": {},
   "outputs": [],
   "source": [
    "df.drop('veil-type' ,axis=1, inplace=True)"
   ]
  },
  {
   "cell_type": "code",
   "execution_count": 13,
   "id": "62229b0e",
   "metadata": {},
   "outputs": [
    {
     "data": {
      "text/html": [
       "<div>\n",
       "<style scoped>\n",
       "    .dataframe tbody tr th:only-of-type {\n",
       "        vertical-align: middle;\n",
       "    }\n",
       "\n",
       "    .dataframe tbody tr th {\n",
       "        vertical-align: top;\n",
       "    }\n",
       "\n",
       "    .dataframe thead th {\n",
       "        text-align: right;\n",
       "    }\n",
       "</style>\n",
       "<table border=\"1\" class=\"dataframe\">\n",
       "  <thead>\n",
       "    <tr style=\"text-align: right;\">\n",
       "      <th></th>\n",
       "      <th>class</th>\n",
       "      <th>cap-shape</th>\n",
       "      <th>cap-surface</th>\n",
       "      <th>cap-color</th>\n",
       "      <th>bruises</th>\n",
       "      <th>odor</th>\n",
       "      <th>gill-attachment</th>\n",
       "      <th>gill-spacing</th>\n",
       "      <th>gill-size</th>\n",
       "      <th>gill-color</th>\n",
       "      <th>...</th>\n",
       "      <th>stalk-surface-above-ring</th>\n",
       "      <th>stalk-surface-below-ring</th>\n",
       "      <th>stalk-color-above-ring</th>\n",
       "      <th>stalk-color-below-ring</th>\n",
       "      <th>veil-color</th>\n",
       "      <th>ring-number</th>\n",
       "      <th>ring-type</th>\n",
       "      <th>spore-print-color</th>\n",
       "      <th>population</th>\n",
       "      <th>habitat</th>\n",
       "    </tr>\n",
       "  </thead>\n",
       "  <tbody>\n",
       "    <tr>\n",
       "      <th>0</th>\n",
       "      <td>1</td>\n",
       "      <td>5</td>\n",
       "      <td>2</td>\n",
       "      <td>4</td>\n",
       "      <td>1</td>\n",
       "      <td>6</td>\n",
       "      <td>1</td>\n",
       "      <td>0</td>\n",
       "      <td>1</td>\n",
       "      <td>4</td>\n",
       "      <td>...</td>\n",
       "      <td>2</td>\n",
       "      <td>2</td>\n",
       "      <td>7</td>\n",
       "      <td>7</td>\n",
       "      <td>2</td>\n",
       "      <td>1</td>\n",
       "      <td>4</td>\n",
       "      <td>2</td>\n",
       "      <td>3</td>\n",
       "      <td>5</td>\n",
       "    </tr>\n",
       "    <tr>\n",
       "      <th>1</th>\n",
       "      <td>0</td>\n",
       "      <td>5</td>\n",
       "      <td>2</td>\n",
       "      <td>9</td>\n",
       "      <td>1</td>\n",
       "      <td>0</td>\n",
       "      <td>1</td>\n",
       "      <td>0</td>\n",
       "      <td>0</td>\n",
       "      <td>4</td>\n",
       "      <td>...</td>\n",
       "      <td>2</td>\n",
       "      <td>2</td>\n",
       "      <td>7</td>\n",
       "      <td>7</td>\n",
       "      <td>2</td>\n",
       "      <td>1</td>\n",
       "      <td>4</td>\n",
       "      <td>3</td>\n",
       "      <td>2</td>\n",
       "      <td>1</td>\n",
       "    </tr>\n",
       "    <tr>\n",
       "      <th>2</th>\n",
       "      <td>0</td>\n",
       "      <td>0</td>\n",
       "      <td>2</td>\n",
       "      <td>8</td>\n",
       "      <td>1</td>\n",
       "      <td>3</td>\n",
       "      <td>1</td>\n",
       "      <td>0</td>\n",
       "      <td>0</td>\n",
       "      <td>5</td>\n",
       "      <td>...</td>\n",
       "      <td>2</td>\n",
       "      <td>2</td>\n",
       "      <td>7</td>\n",
       "      <td>7</td>\n",
       "      <td>2</td>\n",
       "      <td>1</td>\n",
       "      <td>4</td>\n",
       "      <td>3</td>\n",
       "      <td>2</td>\n",
       "      <td>3</td>\n",
       "    </tr>\n",
       "    <tr>\n",
       "      <th>3</th>\n",
       "      <td>1</td>\n",
       "      <td>5</td>\n",
       "      <td>3</td>\n",
       "      <td>8</td>\n",
       "      <td>1</td>\n",
       "      <td>6</td>\n",
       "      <td>1</td>\n",
       "      <td>0</td>\n",
       "      <td>1</td>\n",
       "      <td>5</td>\n",
       "      <td>...</td>\n",
       "      <td>2</td>\n",
       "      <td>2</td>\n",
       "      <td>7</td>\n",
       "      <td>7</td>\n",
       "      <td>2</td>\n",
       "      <td>1</td>\n",
       "      <td>4</td>\n",
       "      <td>2</td>\n",
       "      <td>3</td>\n",
       "      <td>5</td>\n",
       "    </tr>\n",
       "    <tr>\n",
       "      <th>4</th>\n",
       "      <td>0</td>\n",
       "      <td>5</td>\n",
       "      <td>2</td>\n",
       "      <td>3</td>\n",
       "      <td>0</td>\n",
       "      <td>5</td>\n",
       "      <td>1</td>\n",
       "      <td>1</td>\n",
       "      <td>0</td>\n",
       "      <td>4</td>\n",
       "      <td>...</td>\n",
       "      <td>2</td>\n",
       "      <td>2</td>\n",
       "      <td>7</td>\n",
       "      <td>7</td>\n",
       "      <td>2</td>\n",
       "      <td>1</td>\n",
       "      <td>0</td>\n",
       "      <td>3</td>\n",
       "      <td>0</td>\n",
       "      <td>1</td>\n",
       "    </tr>\n",
       "  </tbody>\n",
       "</table>\n",
       "<p>5 rows × 22 columns</p>\n",
       "</div>"
      ],
      "text/plain": [
       "   class  cap-shape  cap-surface  cap-color  bruises  odor  gill-attachment  \\\n",
       "0      1          5            2          4        1     6                1   \n",
       "1      0          5            2          9        1     0                1   \n",
       "2      0          0            2          8        1     3                1   \n",
       "3      1          5            3          8        1     6                1   \n",
       "4      0          5            2          3        0     5                1   \n",
       "\n",
       "   gill-spacing  gill-size  gill-color  ...  stalk-surface-above-ring  \\\n",
       "0             0          1           4  ...                         2   \n",
       "1             0          0           4  ...                         2   \n",
       "2             0          0           5  ...                         2   \n",
       "3             0          1           5  ...                         2   \n",
       "4             1          0           4  ...                         2   \n",
       "\n",
       "   stalk-surface-below-ring  stalk-color-above-ring  stalk-color-below-ring  \\\n",
       "0                         2                       7                       7   \n",
       "1                         2                       7                       7   \n",
       "2                         2                       7                       7   \n",
       "3                         2                       7                       7   \n",
       "4                         2                       7                       7   \n",
       "\n",
       "   veil-color  ring-number  ring-type  spore-print-color  population  habitat  \n",
       "0           2            1          4                  2           3        5  \n",
       "1           2            1          4                  3           2        1  \n",
       "2           2            1          4                  3           2        3  \n",
       "3           2            1          4                  2           3        5  \n",
       "4           2            1          0                  3           0        1  \n",
       "\n",
       "[5 rows x 22 columns]"
      ]
     },
     "execution_count": 13,
     "metadata": {},
     "output_type": "execute_result"
    }
   ],
   "source": [
    "le=LabelEncoder()\n",
    "col=df.columns\n",
    "for i in col:\n",
    "    df[i]=le.fit_transform(df[i])\n",
    "df.head(5)"
   ]
  },
  {
   "cell_type": "markdown",
   "id": "58a416a4",
   "metadata": {},
   "source": [
    "for class 1- poisonous and 0- edible"
   ]
  },
  {
   "cell_type": "markdown",
   "id": "470585a9",
   "metadata": {},
   "source": [
    "# SPLIT-TRAIN-TEST DATA INTO X AND Y"
   ]
  },
  {
   "cell_type": "code",
   "execution_count": 26,
   "id": "369b0c05",
   "metadata": {},
   "outputs": [],
   "source": [
    "x=df.drop('class',axis=1)\n",
    "y=df['class']"
   ]
  },
  {
   "cell_type": "code",
   "execution_count": 27,
   "id": "3c4ea43c",
   "metadata": {},
   "outputs": [],
   "source": [
    "x_train,x_test,y_train,y_test=train_test_split(x,y,test_size=.3,random_state=42)"
   ]
  },
  {
   "cell_type": "code",
   "execution_count": 31,
   "id": "6b9f233d",
   "metadata": {},
   "outputs": [
    {
     "name": "stdout",
     "output_type": "stream",
     "text": [
      "accuracy score  0.9499589827727646\n",
      "confusion matrix \n",
      " [[1200   57]\n",
      " [  65 1116]]\n",
      "classification report \n",
      "               precision    recall  f1-score   support\n",
      "\n",
      "           0       0.95      0.95      0.95      1257\n",
      "           1       0.95      0.94      0.95      1181\n",
      "\n",
      "    accuracy                           0.95      2438\n",
      "   macro avg       0.95      0.95      0.95      2438\n",
      "weighted avg       0.95      0.95      0.95      2438\n",
      "\n"
     ]
    }
   ],
   "source": [
    "lr=LogisticRegression()\n",
    "lr.fit(x_train,y_train)\n",
    "y_pred=lr.predict(x_test)\n",
    "print('accuracy score ',accuracy_score(y_test,y_pred))\n",
    "print('confusion matrix \\n',confusion_matrix(y_test,y_pred))\n",
    "print('classification report \\n',classification_report(y_test,y_pred))"
   ]
  },
  {
   "cell_type": "code",
   "execution_count": 35,
   "id": "f64f4f0d",
   "metadata": {},
   "outputs": [
    {
     "name": "stdout",
     "output_type": "stream",
     "text": [
      "accuracy score  0.6301538461538462\n",
      "accuracy score  0.984\n",
      "accuracy score  0.8756923076923077\n",
      "accuracy score  0.9981538461538462\n",
      "accuracy score  0.7136699507389163\n",
      "mean accuracy score 0.8403339901477832\n"
     ]
    }
   ],
   "source": [
    "kfold=StratifiedKFold(n_splits=5) # to get a balanced split\n",
    "accuracy=[]\n",
    "for train_index,test_index in kfold.split(x,y):\n",
    "    #print(\"TRAIN:\", train_index, \"TEST:\", test_index)\n",
    "    xtrain, xtest = x.iloc[train_index], x.iloc[test_index]\n",
    "    ytrain, ytest = y.iloc[train_index], y.iloc[test_index]\n",
    "    lr=LogisticRegression()\n",
    "    lr.fit(xtrain,ytrain)\n",
    "    y_pred=lr.predict(xtest)\n",
    "    print('accuracy score ',accuracy_score(ytest,y_pred))\n",
    "    accuracy.append(accuracy_score(ytest,y_pred))\n",
    "print('mean accuracy score',sum(accuracy)/len(accuracy))"
   ]
  },
  {
   "cell_type": "code",
   "execution_count": 37,
   "id": "b34dcfc8",
   "metadata": {},
   "outputs": [
    {
     "name": "stdout",
     "output_type": "stream",
     "text": [
      "accuracy score  1.0\n",
      "confusion matrix \n",
      " [[1257    0]\n",
      " [   0 1181]]\n",
      "classification report \n",
      "               precision    recall  f1-score   support\n",
      "\n",
      "           0       1.00      1.00      1.00      1257\n",
      "           1       1.00      1.00      1.00      1181\n",
      "\n",
      "    accuracy                           1.00      2438\n",
      "   macro avg       1.00      1.00      1.00      2438\n",
      "weighted avg       1.00      1.00      1.00      2438\n",
      "\n"
     ]
    }
   ],
   "source": [
    "dt=DecisionTreeClassifier()\n",
    "dt.fit(x_train,y_train)\n",
    "y_pred=dt.predict(x_test)\n",
    "print('accuracy score ',accuracy_score(y_test,y_pred))\n",
    "print('confusion matrix \\n',confusion_matrix(y_test,y_pred))\n",
    "print('classification report \\n',classification_report(y_test,y_pred))"
   ]
  },
  {
   "cell_type": "markdown",
   "id": "3bc2de77",
   "metadata": {},
   "source": [
    "# CROSS VALIDATION"
   ]
  },
  {
   "cell_type": "code",
   "execution_count": 38,
   "id": "cefb565b",
   "metadata": {},
   "outputs": [
    {
     "name": "stdout",
     "output_type": "stream",
     "text": [
      "accuracy score  0.8818461538461538\n",
      "confusion matrix\n",
      " [[841   0]\n",
      " [192 592]]\n",
      "accuracy score  1.0\n",
      "confusion matrix\n",
      " [[842   0]\n",
      " [  0 783]]\n",
      "accuracy score  1.0\n",
      "confusion matrix\n",
      " [[842   0]\n",
      " [  0 783]]\n",
      "accuracy score  1.0\n",
      "confusion matrix\n",
      " [[842   0]\n",
      " [  0 783]]\n",
      "accuracy score  0.7192118226600985\n",
      "confusion matrix\n",
      " [[385 456]\n",
      " [  0 783]]\n",
      "mean accuracy score 0.9202115953012505\n"
     ]
    }
   ],
   "source": [
    "kfold=StratifiedKFold(n_splits=5) # to get a balanced split\n",
    "accuracy=[]\n",
    "for train_index,test_index in kfold.split(x,y):\n",
    "    #print(\"TRAIN:\", train_index, \"TEST:\", test_index)\n",
    "    xtrain, xtest = x.iloc[train_index], x.iloc[test_index]\n",
    "    ytrain, ytest = y.iloc[train_index], y.iloc[test_index]\n",
    "    dt.fit(xtrain,ytrain)\n",
    "    y_pred=dt.predict(xtest)\n",
    "    print('accuracy score ',accuracy_score(ytest,y_pred))\n",
    "    accuracy.append(accuracy_score(ytest,y_pred))\n",
    "    print('confusion matrix\\n',confusion_matrix(ytest,y_pred))\n",
    "print('mean accuracy score',sum(accuracy)/len(accuracy))"
   ]
  },
  {
   "cell_type": "code",
   "execution_count": 42,
   "id": "8cd9d768",
   "metadata": {},
   "outputs": [
    {
     "name": "stdout",
     "output_type": "stream",
     "text": [
      "accuracy score  1.0\n",
      "confusion matrix \n",
      " [[1257    0]\n",
      " [   0 1181]]\n",
      "classification report \n",
      "               precision    recall  f1-score   support\n",
      "\n",
      "           0       1.00      1.00      1.00      1257\n",
      "           1       1.00      1.00      1.00      1181\n",
      "\n",
      "    accuracy                           1.00      2438\n",
      "   macro avg       1.00      1.00      1.00      2438\n",
      "weighted avg       1.00      1.00      1.00      2438\n",
      "\n"
     ]
    }
   ],
   "source": [
    "rf=RandomForestClassifier()\n",
    "rf.fit(x_train,y_train)\n",
    "y_pred=rf.predict(x_test)\n",
    "print('accuracy score ',accuracy_score(y_test,y_pred))\n",
    "print('confusion matrix \\n',confusion_matrix(y_test,y_pred))\n",
    "print('classification report \\n',classification_report(y_test,y_pred))"
   ]
  },
  {
   "cell_type": "code",
   "execution_count": 43,
   "id": "92b1c9f1",
   "metadata": {},
   "outputs": [
    {
     "name": "stdout",
     "output_type": "stream",
     "text": [
      "accuracy score  0.8424615384615385\n",
      "confusion matrix\n",
      " [[841   0]\n",
      " [256 528]]\n",
      "accuracy score  1.0\n",
      "confusion matrix\n",
      " [[842   0]\n",
      " [  0 783]]\n",
      "accuracy score  1.0\n",
      "confusion matrix\n",
      " [[842   0]\n",
      " [  0 783]]\n",
      "accuracy score  1.0\n",
      "confusion matrix\n",
      " [[842   0]\n",
      " [  0 783]]\n",
      "accuracy score  0.625\n",
      "confusion matrix\n",
      " [[232 609]\n",
      " [  0 783]]\n",
      "mean accuracy score 0.8934923076923077\n"
     ]
    }
   ],
   "source": [
    "kfold=StratifiedKFold(n_splits=5) # to get a balanced split\n",
    "accuracy=[]\n",
    "for train_index,test_index in kfold.split(x,y):\n",
    "    #print(\"TRAIN:\", train_index, \"TEST:\", test_index)\n",
    "    xtrain, xtest = x.iloc[train_index], x.iloc[test_index]\n",
    "    ytrain, ytest = y.iloc[train_index], y.iloc[test_index]\n",
    "    rf.fit(xtrain,ytrain)\n",
    "    y_pred=rf.predict(xtest)\n",
    "    print('accuracy score ',accuracy_score(ytest,y_pred))\n",
    "    accuracy.append(accuracy_score(ytest,y_pred))\n",
    "    print('confusion matrix\\n',confusion_matrix(ytest,y_pred))\n",
    "print('mean accuracy score',sum(accuracy)/len(accuracy))"
   ]
  },
  {
   "cell_type": "markdown",
   "id": "59228e25",
   "metadata": {},
   "source": [
    "# APPLYING HYPERPARAMETER TUNING"
   ]
  },
  {
   "cell_type": "markdown",
   "id": "5a0ba3f8",
   "metadata": {},
   "source": [
    "# DECISION TREE TUNING"
   ]
  },
  {
   "cell_type": "code",
   "execution_count": 45,
   "id": "18f6623b",
   "metadata": {},
   "outputs": [
    {
     "name": "stdout",
     "output_type": "stream",
     "text": [
      "best score  1.0\n",
      "DecisionTreeClassifier(max_depth=7, random_state=42)\n"
     ]
    }
   ],
   "source": [
    "params={'criterion':['gini', 'entropy'],\n",
    "        'max_depth':[3,4,5,6,7,8,9,10],\n",
    "        'splitter':['best','random'],\n",
    "        'min_samples_split':[2,4,6,10,12],\n",
    "        'min_samples_leaf':[1,2,3,4],\n",
    "        'max_features':['sqrt','log2',None],\n",
    "        'random_state':[42,]}\n",
    "\n",
    "dt_reg=GridSearchCV(estimator=dt,\n",
    "                    param_grid=params,\n",
    "                    scoring='accuracy',\n",
    "                    cv=10,\n",
    "                    n_jobs=-1)\n",
    "\n",
    "dt_reg.fit(x_train,y_train)\n",
    "print('best score ',dt_reg.best_score_)\n",
    "dtbest=dt_reg.best_estimator_\n",
    "print(dtbest)"
   ]
  },
  {
   "cell_type": "code",
   "execution_count": 46,
   "id": "beb9c5de",
   "metadata": {},
   "outputs": [
    {
     "name": "stdout",
     "output_type": "stream",
     "text": [
      "accuracy score  0.8572307692307692\n",
      "confusion matrix\n",
      " [[801  40]\n",
      " [192 592]]\n",
      "accuracy score  1.0\n",
      "confusion matrix\n",
      " [[842   0]\n",
      " [  0 783]]\n",
      "accuracy score  1.0\n",
      "confusion matrix\n",
      " [[842   0]\n",
      " [  0 783]]\n",
      "accuracy score  1.0\n",
      "confusion matrix\n",
      " [[842   0]\n",
      " [  0 783]]\n",
      "accuracy score  0.6896551724137931\n",
      "confusion matrix\n",
      " [[337 504]\n",
      " [  0 783]]\n",
      "mean accuracy score 0.9093771883289126\n"
     ]
    }
   ],
   "source": [
    "kfold=StratifiedKFold(n_splits=5) # to get a balanced split\n",
    "accuracy=[]\n",
    "for train_index,test_index in kfold.split(x,y):\n",
    "    #print(\"TRAIN:\", train_index, \"TEST:\", test_index)\n",
    "    xtrain, xtest = x.iloc[train_index], x.iloc[test_index]\n",
    "    ytrain, ytest = y.iloc[train_index], y.iloc[test_index]\n",
    "    dtbest.fit(xtrain,ytrain)\n",
    "    y_pred=dtbest.predict(xtest)\n",
    "    print('accuracy score ',accuracy_score(ytest,y_pred))\n",
    "    accuracy.append(accuracy_score(ytest,y_pred))\n",
    "    print('confusion matrix\\n',confusion_matrix(ytest,y_pred))\n",
    "print('mean accuracy score',sum(accuracy)/len(accuracy))"
   ]
  },
  {
   "cell_type": "markdown",
   "id": "8dc67eaf",
   "metadata": {},
   "source": [
    "Decision Tress does not improves the accuracy. So, we can check with another model i.e Random forest tuning"
   ]
  },
  {
   "cell_type": "markdown",
   "id": "341c5d3c",
   "metadata": {},
   "source": [
    "# RANDOM FOREST TUNING"
   ]
  },
  {
   "cell_type": "code",
   "execution_count": 47,
   "id": "aa82b307",
   "metadata": {},
   "outputs": [
    {
     "name": "stdout",
     "output_type": "stream",
     "text": [
      "best score  1.0\n",
      "RandomForestClassifier(max_depth=8, max_samples=2025, random_state=42)\n"
     ]
    }
   ],
   "source": [
    "para={'criterion':['gini','entropy'],\n",
    "     'max_depth':[5,6,7,8],\n",
    "     'min_samples_split':[2,4],\n",
    "     'min_samples_leaf':[1,2],\n",
    "      'random_state':[42,],\n",
    "     'max_samples':[int(i) for i in np.linspace(1000,5100,5)]\n",
    "     } \n",
    "\n",
    "rf_reg=GridSearchCV(estimator=rf,\n",
    "                    param_grid=para,\n",
    "                    scoring='accuracy',\n",
    "                    cv=10,\n",
    "                    n_jobs=-1)\n",
    "\n",
    "rf_reg.fit(x_train,y_train)\n",
    "print('best score ',rf_reg.best_score_)\n",
    "rfbest=rf_reg.best_estimator_\n",
    "print(rfbest)"
   ]
  },
  {
   "cell_type": "code",
   "execution_count": 49,
   "id": "fa69a71b",
   "metadata": {},
   "outputs": [
    {
     "name": "stdout",
     "output_type": "stream",
     "text": [
      "accuracy score  0.8424615384615385\n",
      "confusion matrix\n",
      " [[841   0]\n",
      " [256 528]]\n",
      "accuracy score  1.0\n",
      "confusion matrix\n",
      " [[842   0]\n",
      " [  0 783]]\n",
      "accuracy score  0.9612307692307692\n",
      "confusion matrix\n",
      " [[842   0]\n",
      " [ 63 720]]\n",
      "accuracy score  1.0\n",
      "confusion matrix\n",
      " [[842   0]\n",
      " [  0 783]]\n",
      "accuracy score  0.5584975369458128\n",
      "confusion matrix\n",
      " [[124 717]\n",
      " [  0 783]]\n",
      "mean accuracy score 0.8724379689276243\n"
     ]
    }
   ],
   "source": [
    "kfold=StratifiedKFold(n_splits=5) \n",
    "accuracy=[]\n",
    "for train_index,test_index in kfold.split(x,y):\n",
    "    xtrain, xtest = x.iloc[train_index], x.iloc[test_index]\n",
    "    ytrain, ytest = y.iloc[train_index], y.iloc[test_index]\n",
    "    rfbest.fit(xtrain,ytrain)\n",
    "    y_pred=rfbest.predict(xtest)\n",
    "    print('accuracy score ',accuracy_score(ytest,y_pred))\n",
    "    accuracy.append(accuracy_score(ytest,y_pred))\n",
    "    print('confusion matrix\\n',confusion_matrix(ytest,y_pred))\n",
    "print('mean accuracy score',sum(accuracy)/len(accuracy))"
   ]
  },
  {
   "cell_type": "markdown",
   "id": "5a403168",
   "metadata": {},
   "source": [
    "So, the best model is decision tree without hyperparameter tuning because it has good accuracy score"
   ]
  },
  {
   "cell_type": "code",
   "execution_count": 50,
   "id": "e0cd304e",
   "metadata": {},
   "outputs": [
    {
     "data": {
      "text/plain": [
       "DecisionTreeClassifier()"
      ]
     },
     "execution_count": 50,
     "metadata": {},
     "output_type": "execute_result"
    }
   ],
   "source": [
    "dt=DecisionTreeClassifier()\n",
    "dt.fit(x,y)"
   ]
  },
  {
   "cell_type": "markdown",
   "id": "fa4ebf71",
   "metadata": {},
   "source": [
    "saving the model"
   ]
  },
  {
   "cell_type": "code",
   "execution_count": 56,
   "id": "daa992f3",
   "metadata": {},
   "outputs": [
    {
     "data": {
      "text/plain": [
       "['mushroom.pkl']"
      ]
     },
     "execution_count": 56,
     "metadata": {},
     "output_type": "execute_result"
    }
   ],
   "source": [
    "joblib.dump(dt,'mushroom.pkl')"
   ]
  },
  {
   "cell_type": "code",
   "execution_count": 57,
   "id": "3b3ec223",
   "metadata": {},
   "outputs": [
    {
     "data": {
      "text/plain": [
       "1.0"
      ]
     },
     "execution_count": 57,
     "metadata": {},
     "output_type": "execute_result"
    }
   ],
   "source": [
    "model=joblib.load('mushroom.pkl')\n",
    "y_pred=model.predict(x_test)\n",
    "accuracy_score(y_test,y_pred)"
   ]
  },
  {
   "cell_type": "code",
   "execution_count": null,
   "id": "b885bd43",
   "metadata": {},
   "outputs": [],
   "source": [
    "    "
   ]
  }
 ],
 "metadata": {
  "kernelspec": {
   "display_name": "Python 3",
   "language": "python",
   "name": "python3"
  },
  "language_info": {
   "codemirror_mode": {
    "name": "ipython",
    "version": 3
   },
   "file_extension": ".py",
   "mimetype": "text/x-python",
   "name": "python",
   "nbconvert_exporter": "python",
   "pygments_lexer": "ipython3",
   "version": "3.8.8"
  }
 },
 "nbformat": 4,
 "nbformat_minor": 5
}
